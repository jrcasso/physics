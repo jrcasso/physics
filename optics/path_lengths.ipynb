{
 "metadata": {
  "language_info": {
   "codemirror_mode": {
    "name": "ipython",
    "version": 3
   },
   "file_extension": ".py",
   "mimetype": "text/x-python",
   "name": "python",
   "nbconvert_exporter": "python",
   "pygments_lexer": "ipython3",
   "version": "3.9.1-final"
  },
  "orig_nbformat": 2,
  "kernelspec": {
   "name": "python3",
   "display_name": "Python 3.9.1 64-bit",
   "metadata": {
    "interpreter": {
     "hash": "4cd7ab41f5fca4b9b44701077e38c5ffd31fe66a6cab21e0214b68d958d0e462"
    }
   }
  }
 },
 "nbformat": 4,
 "nbformat_minor": 2,
 "cells": [
  {
   "cell_type": "code",
   "execution_count": 2,
   "metadata": {},
   "outputs": [
    {
     "output_type": "stream",
     "name": "stdout",
     "text": [
      "[0.50003906 1.00001953 2.00000977]\n[0.50015623 1.00007812 2.00003906]\n[3.90609742e-05 1.95310593e-05 9.76560116e-06]\n[1.17164619e-04 5.85908892e-05 2.92965174e-05]\n"
     ]
    }
   ],
   "source": [
    "import numpy as np\n",
    "results = []\n",
    "r = 0.0125\n",
    "\n",
    "l1_values = np.array([0.5, 1.0, 2.0])  # Make dynamic\n",
    "\n",
    "l2 = lambda r, l1 : np.sqrt(np.square(r / 2) + np.square(l1_values))\n",
    "l3 = lambda r, l3 : np.sqrt(np.square(r) + np.square(l1_values))\n",
    "\n",
    "l2_values = l2(r, l1_values)\n",
    "l3_values = l3(r, l2_values)\n",
    "\n",
    "print(l2_values)\n",
    "print(l3_values)\n",
    "print(l2_values - l1_values)\n",
    "print(l3_values - l2_values)\n",
    "\n"
   ]
  },
  {
   "cell_type": "code",
   "execution_count": null,
   "metadata": {},
   "outputs": [],
   "source": []
  }
 ]
}